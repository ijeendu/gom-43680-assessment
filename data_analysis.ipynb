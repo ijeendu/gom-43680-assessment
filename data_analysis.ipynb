{
 "cells": [
  {
   "cell_type": "code",
   "execution_count": null,
   "metadata": {},
   "outputs": [],
   "source": []
  },
  {
   "cell_type": "markdown",
   "metadata": {},
   "source": [
    "# Data Source:\n",
    "https://data.lacity.org/City-Infrastructure-Service-Requests/Building-and-Safety-Inspections/9w5z-rg2h/about_data\n",
    "\n",
    "\n",
    "\n",
    "Last update: yesterday\n",
    "10.2M rows and 7 columns.\n"
   ]
  },
  {
   "cell_type": "markdown",
   "metadata": {},
   "source": [
    "# Question 1: \n",
    "\n",
    "Make a table and a visualisation showing an interesting characteristic of the permit and inspection dataset\n",
    "\n"
   ]
  },
  {
   "cell_type": "code",
   "execution_count": 1,
   "metadata": {},
   "outputs": [],
   "source": [
    "import pandas as pd\n",
    "import numpy as np\n",
    "import seaborn as sns\n",
    "import matplotlib.pyplot as plt\n",
    "import geopandas as gpd\n",
    "#import folium\n",
    "#import plotly.express as px"
   ]
  },
  {
   "cell_type": "code",
   "execution_count": 2,
   "metadata": {},
   "outputs": [],
   "source": [
    "# read dataset\n",
    "inspected_permits_df = pd.read_csv('Building_and_Safety_Inspections_20250218.csv', low_memory=False)\n"
   ]
  },
  {
   "cell_type": "code",
   "execution_count": 3,
   "metadata": {},
   "outputs": [
    {
     "data": {
      "text/html": [
       "<div>\n",
       "<style scoped>\n",
       "    .dataframe tbody tr th:only-of-type {\n",
       "        vertical-align: middle;\n",
       "    }\n",
       "\n",
       "    .dataframe tbody tr th {\n",
       "        vertical-align: top;\n",
       "    }\n",
       "\n",
       "    .dataframe thead th {\n",
       "        text-align: right;\n",
       "    }\n",
       "</style>\n",
       "<table border=\"1\" class=\"dataframe\">\n",
       "  <thead>\n",
       "    <tr style=\"text-align: right;\">\n",
       "      <th></th>\n",
       "      <th>ADDRESS</th>\n",
       "      <th>PERMIT</th>\n",
       "      <th>Permit Status</th>\n",
       "      <th>Inspection Date</th>\n",
       "      <th>Inspection Type</th>\n",
       "      <th>Inspection Result</th>\n",
       "      <th>Latitude/Longitude</th>\n",
       "    </tr>\n",
       "  </thead>\n",
       "  <tbody>\n",
       "    <tr>\n",
       "      <th>0</th>\n",
       "      <td>10000 W SANTA MONICA BLVD</td>\n",
       "      <td>14044 10000 02293</td>\n",
       "      <td>Issued</td>\n",
       "      <td>07/20/2016</td>\n",
       "      <td>Rough-Ventilation</td>\n",
       "      <td>Partial Approval</td>\n",
       "      <td>(34.06364, -118.41437)</td>\n",
       "    </tr>\n",
       "    <tr>\n",
       "      <th>1</th>\n",
       "      <td>1000 S SANTA FE AVE</td>\n",
       "      <td>15016 10000 18196</td>\n",
       "      <td>Permit Finaled</td>\n",
       "      <td>07/22/2016</td>\n",
       "      <td>Smoke Detectors</td>\n",
       "      <td>Insp Cancelled</td>\n",
       "      <td>(34.03143, -118.22981)</td>\n",
       "    </tr>\n",
       "    <tr>\n",
       "      <th>2</th>\n",
       "      <td>3680 N BUENA PARK DR</td>\n",
       "      <td>15014 10000 04931</td>\n",
       "      <td>Issued</td>\n",
       "      <td>07/18/2016</td>\n",
       "      <td>Insulation</td>\n",
       "      <td>Approved</td>\n",
       "      <td>(34.13745, -118.38853)</td>\n",
       "    </tr>\n",
       "    <tr>\n",
       "      <th>3</th>\n",
       "      <td>1001 N LINDENWOOD LANE</td>\n",
       "      <td>16042 90000 14712</td>\n",
       "      <td>Permit Finaled</td>\n",
       "      <td>07/20/2016</td>\n",
       "      <td>Final</td>\n",
       "      <td>Permit Finaled</td>\n",
       "      <td>(34.07732, -118.48578)</td>\n",
       "    </tr>\n",
       "    <tr>\n",
       "      <th>4</th>\n",
       "      <td>2836 S ANCHOR AVE</td>\n",
       "      <td>15016 20001 17211</td>\n",
       "      <td>CofO Issued</td>\n",
       "      <td>07/18/2016</td>\n",
       "      <td>Inspection</td>\n",
       "      <td>Permit Finaled</td>\n",
       "      <td>(34.03878, -118.39963)</td>\n",
       "    </tr>\n",
       "  </tbody>\n",
       "</table>\n",
       "</div>"
      ],
      "text/plain": [
       "                     ADDRESS             PERMIT   Permit Status  \\\n",
       "0  10000 W SANTA MONICA BLVD  14044 10000 02293          Issued   \n",
       "1        1000 S SANTA FE AVE  15016 10000 18196  Permit Finaled   \n",
       "2       3680 N BUENA PARK DR  15014 10000 04931          Issued   \n",
       "3     1001 N LINDENWOOD LANE  16042 90000 14712  Permit Finaled   \n",
       "4          2836 S ANCHOR AVE  15016 20001 17211     CofO Issued   \n",
       "\n",
       "  Inspection Date    Inspection Type Inspection Result      Latitude/Longitude  \n",
       "0      07/20/2016  Rough-Ventilation  Partial Approval  (34.06364, -118.41437)  \n",
       "1      07/22/2016    Smoke Detectors    Insp Cancelled  (34.03143, -118.22981)  \n",
       "2      07/18/2016         Insulation          Approved  (34.13745, -118.38853)  \n",
       "3      07/20/2016              Final    Permit Finaled  (34.07732, -118.48578)  \n",
       "4      07/18/2016         Inspection    Permit Finaled  (34.03878, -118.39963)  "
      ]
     },
     "execution_count": 3,
     "metadata": {},
     "output_type": "execute_result"
    }
   ],
   "source": [
    "# inspect data\n",
    "inspected_permits_df.head(5)"
   ]
  },
  {
   "cell_type": "code",
   "execution_count": 4,
   "metadata": {},
   "outputs": [
    {
     "data": {
      "text/html": [
       "<div>\n",
       "<style scoped>\n",
       "    .dataframe tbody tr th:only-of-type {\n",
       "        vertical-align: middle;\n",
       "    }\n",
       "\n",
       "    .dataframe tbody tr th {\n",
       "        vertical-align: top;\n",
       "    }\n",
       "\n",
       "    .dataframe thead th {\n",
       "        text-align: right;\n",
       "    }\n",
       "</style>\n",
       "<table border=\"1\" class=\"dataframe\">\n",
       "  <thead>\n",
       "    <tr style=\"text-align: right;\">\n",
       "      <th></th>\n",
       "      <th>ADDRESS</th>\n",
       "      <th>PERMIT</th>\n",
       "      <th>Permit Status</th>\n",
       "      <th>Inspection Date</th>\n",
       "      <th>Inspection Type</th>\n",
       "      <th>Inspection Result</th>\n",
       "      <th>Latitude/Longitude</th>\n",
       "    </tr>\n",
       "  </thead>\n",
       "  <tbody>\n",
       "    <tr>\n",
       "      <th>10237485</th>\n",
       "      <td>1603 W 219TH ST</td>\n",
       "      <td>21019 20000 01308</td>\n",
       "      <td>Issued</td>\n",
       "      <td>02/14/2025</td>\n",
       "      <td>Protection Fence/Barricades</td>\n",
       "      <td>Approved</td>\n",
       "      <td>(33.82922, -118.30673)</td>\n",
       "    </tr>\n",
       "    <tr>\n",
       "      <th>10237486</th>\n",
       "      <td>501 WORLD WAY</td>\n",
       "      <td>21016 10000 59041</td>\n",
       "      <td>Issued</td>\n",
       "      <td>02/12/2025</td>\n",
       "      <td>Final</td>\n",
       "      <td>No Access for Inspection</td>\n",
       "      <td>(33.94297, -118.40516)</td>\n",
       "    </tr>\n",
       "    <tr>\n",
       "      <th>10237487</th>\n",
       "      <td>4004 N ROGEN DR</td>\n",
       "      <td>22030 20000 06949</td>\n",
       "      <td>Issued</td>\n",
       "      <td>02/11/2025</td>\n",
       "      <td>Rough</td>\n",
       "      <td>Insp Cancelled</td>\n",
       "      <td>(34.1444, -118.4964)</td>\n",
       "    </tr>\n",
       "    <tr>\n",
       "      <th>10237488</th>\n",
       "      <td>18330 W JOVAN ST</td>\n",
       "      <td>24047 20000 00167</td>\n",
       "      <td>Issued</td>\n",
       "      <td>02/13/2025</td>\n",
       "      <td>ELECTRICAL-Final</td>\n",
       "      <td>Not Ready for Inspection</td>\n",
       "      <td>(34.18307, -118.53276)</td>\n",
       "    </tr>\n",
       "    <tr>\n",
       "      <th>10237489</th>\n",
       "      <td>2732-2734 S BUTLER AVE</td>\n",
       "      <td>24016 10000 19940</td>\n",
       "      <td>Issued</td>\n",
       "      <td>02/11/2025</td>\n",
       "      <td>Floor/Roof Diaphrgm/Shear Wall</td>\n",
       "      <td>Insp Cancelled</td>\n",
       "      <td>(34.02721, -118.43568)</td>\n",
       "    </tr>\n",
       "  </tbody>\n",
       "</table>\n",
       "</div>"
      ],
      "text/plain": [
       "                         ADDRESS             PERMIT Permit Status  \\\n",
       "10237485         1603 W 219TH ST  21019 20000 01308        Issued   \n",
       "10237486           501 WORLD WAY  21016 10000 59041        Issued   \n",
       "10237487         4004 N ROGEN DR  22030 20000 06949        Issued   \n",
       "10237488        18330 W JOVAN ST  24047 20000 00167        Issued   \n",
       "10237489  2732-2734 S BUTLER AVE  24016 10000 19940        Issued   \n",
       "\n",
       "         Inspection Date                 Inspection Type  \\\n",
       "10237485      02/14/2025     Protection Fence/Barricades   \n",
       "10237486      02/12/2025                           Final   \n",
       "10237487      02/11/2025                           Rough   \n",
       "10237488      02/13/2025                ELECTRICAL-Final   \n",
       "10237489      02/11/2025  Floor/Roof Diaphrgm/Shear Wall   \n",
       "\n",
       "                 Inspection Result      Latitude/Longitude  \n",
       "10237485                  Approved  (33.82922, -118.30673)  \n",
       "10237486  No Access for Inspection  (33.94297, -118.40516)  \n",
       "10237487            Insp Cancelled    (34.1444, -118.4964)  \n",
       "10237488  Not Ready for Inspection  (34.18307, -118.53276)  \n",
       "10237489            Insp Cancelled  (34.02721, -118.43568)  "
      ]
     },
     "execution_count": 4,
     "metadata": {},
     "output_type": "execute_result"
    }
   ],
   "source": [
    "inspected_permits_df.tail(5)"
   ]
  },
  {
   "cell_type": "code",
   "execution_count": 5,
   "metadata": {},
   "outputs": [
    {
     "data": {
      "text/plain": [
       "(10237490, 7)"
      ]
     },
     "execution_count": 5,
     "metadata": {},
     "output_type": "execute_result"
    }
   ],
   "source": [
    "# how much data do we have?\n",
    "inspected_permits_df.shape"
   ]
  },
  {
   "cell_type": "code",
   "execution_count": 6,
   "metadata": {},
   "outputs": [
    {
     "data": {
      "text/html": [
       "<div>\n",
       "<style scoped>\n",
       "    .dataframe tbody tr th:only-of-type {\n",
       "        vertical-align: middle;\n",
       "    }\n",
       "\n",
       "    .dataframe tbody tr th {\n",
       "        vertical-align: top;\n",
       "    }\n",
       "\n",
       "    .dataframe thead th {\n",
       "        text-align: right;\n",
       "    }\n",
       "</style>\n",
       "<table border=\"1\" class=\"dataframe\">\n",
       "  <thead>\n",
       "    <tr style=\"text-align: right;\">\n",
       "      <th></th>\n",
       "      <th>ADDRESS</th>\n",
       "      <th>PERMIT</th>\n",
       "      <th>Permit Status</th>\n",
       "      <th>Inspection Date</th>\n",
       "      <th>Inspection Type</th>\n",
       "      <th>Inspection Result</th>\n",
       "      <th>Latitude/Longitude</th>\n",
       "    </tr>\n",
       "  </thead>\n",
       "  <tbody>\n",
       "    <tr>\n",
       "      <th>count</th>\n",
       "      <td>10237489</td>\n",
       "      <td>10237490</td>\n",
       "      <td>9756370</td>\n",
       "      <td>10032233</td>\n",
       "      <td>9756353</td>\n",
       "      <td>9756071</td>\n",
       "      <td>9756370</td>\n",
       "    </tr>\n",
       "    <tr>\n",
       "      <th>unique</th>\n",
       "      <td>631078</td>\n",
       "      <td>1701816</td>\n",
       "      <td>46</td>\n",
       "      <td>3999</td>\n",
       "      <td>184</td>\n",
       "      <td>63</td>\n",
       "      <td>435039</td>\n",
       "    </tr>\n",
       "    <tr>\n",
       "      <th>top</th>\n",
       "      <td>300 WORLD WAY</td>\n",
       "      <td>16014 10001 02498</td>\n",
       "      <td>Issued</td>\n",
       "      <td>05/11/2023</td>\n",
       "      <td>Final</td>\n",
       "      <td>Approved</td>\n",
       "      <td>(33.94354, -118.4085)</td>\n",
       "    </tr>\n",
       "    <tr>\n",
       "      <th>freq</th>\n",
       "      <td>14519</td>\n",
       "      <td>10150</td>\n",
       "      <td>7115019</td>\n",
       "      <td>16164</td>\n",
       "      <td>2331099</td>\n",
       "      <td>2117648</td>\n",
       "      <td>24607</td>\n",
       "    </tr>\n",
       "  </tbody>\n",
       "</table>\n",
       "</div>"
      ],
      "text/plain": [
       "              ADDRESS             PERMIT Permit Status Inspection Date  \\\n",
       "count        10237489           10237490       9756370        10032233   \n",
       "unique         631078            1701816            46            3999   \n",
       "top     300 WORLD WAY  16014 10001 02498        Issued      05/11/2023   \n",
       "freq            14519              10150       7115019           16164   \n",
       "\n",
       "       Inspection Type Inspection Result     Latitude/Longitude  \n",
       "count          9756353           9756071                9756370  \n",
       "unique             184                63                 435039  \n",
       "top              Final          Approved  (33.94354, -118.4085)  \n",
       "freq           2331099           2117648                  24607  "
      ]
     },
     "execution_count": 6,
     "metadata": {},
     "output_type": "execute_result"
    }
   ],
   "source": [
    "# describe dataset\n",
    "inspected_permits_df.describe()"
   ]
  },
  {
   "cell_type": "markdown",
   "metadata": {},
   "source": [
    "A total of 631078 unique adresses with 1701816 permits within the coverage period."
   ]
  },
  {
   "cell_type": "code",
   "execution_count": 7,
   "metadata": {},
   "outputs": [
    {
     "data": {
      "text/plain": [
       "array(['Issued', 'Permit Finaled', 'CofO Issued', 'CofO in Progress',\n",
       "       'Permit Expired', 'Permit Closed', 'CofO Corrected',\n",
       "       'Application Submitted', 'Permit Withdrawn', nan,\n",
       "       'Refund in Progress', 'No Progress', 'Insp Scheduled',\n",
       "       'Refund Completed', 'Intent to Revoke', 'PC Info Complete',\n",
       "       'TCO Renewed', 'TCO Issued', 'Partial Inspection',\n",
       "       'Not Ready to Issue', 'CofO Reactivated', 'CofO Superseded',\n",
       "       'Ready to Issue', 'Event Denied', 'CofO Revoked',\n",
       "       'Application Withdrawn', 'PC Approved', 'Permit Extended',\n",
       "       'Order to Comply Issued', 'Approved', 'OK to Expire Permit',\n",
       "       'Not Ready for Inspection', 'Permit Revoked',\n",
       "       'No Access for Inspection', 'Re-activate Application',\n",
       "       'PC Fees Paid', 'CofC Issued', 'CofC Corrected', 'OK for CofC',\n",
       "       'Re-Activate Permit', 'Partial Approval', 'OK to Issue CofC',\n",
       "       'PC Unassigned', 'Corrections Issued', 'Not Required',\n",
       "       'PC Fees Due', 'Approved Pending GreenApproval'], dtype=object)"
      ]
     },
     "execution_count": 7,
     "metadata": {},
     "output_type": "execute_result"
    }
   ],
   "source": [
    "# list the unique values of the permit status column\n",
    "\n",
    "inspected_permits_df['Permit Status'].unique()"
   ]
  },
  {
   "cell_type": "code",
   "execution_count": 8,
   "metadata": {},
   "outputs": [],
   "source": [
    "# split the date column into day, month, and year columns\n",
    "building_and_safety_df = inspected_permits_df.copy()\n",
    "\n",
    "building_and_safety_df[['inspection_day', 'inspection_month', 'inspection_year']] = inspected_permits_df['Inspection Date'].str.split('/', expand=True)"
   ]
  },
  {
   "cell_type": "code",
   "execution_count": 9,
   "metadata": {},
   "outputs": [
    {
     "data": {
      "text/html": [
       "<div>\n",
       "<style scoped>\n",
       "    .dataframe tbody tr th:only-of-type {\n",
       "        vertical-align: middle;\n",
       "    }\n",
       "\n",
       "    .dataframe tbody tr th {\n",
       "        vertical-align: top;\n",
       "    }\n",
       "\n",
       "    .dataframe thead th {\n",
       "        text-align: right;\n",
       "    }\n",
       "</style>\n",
       "<table border=\"1\" class=\"dataframe\">\n",
       "  <thead>\n",
       "    <tr style=\"text-align: right;\">\n",
       "      <th></th>\n",
       "      <th>ADDRESS</th>\n",
       "      <th>PERMIT</th>\n",
       "      <th>Permit Status</th>\n",
       "      <th>Inspection Date</th>\n",
       "      <th>Inspection Type</th>\n",
       "      <th>Inspection Result</th>\n",
       "      <th>Latitude/Longitude</th>\n",
       "      <th>inspection_day</th>\n",
       "      <th>inspection_month</th>\n",
       "      <th>inspection_year</th>\n",
       "    </tr>\n",
       "  </thead>\n",
       "  <tbody>\n",
       "    <tr>\n",
       "      <th>0</th>\n",
       "      <td>10000 W SANTA MONICA BLVD</td>\n",
       "      <td>14044 10000 02293</td>\n",
       "      <td>Issued</td>\n",
       "      <td>07/20/2016</td>\n",
       "      <td>Rough-Ventilation</td>\n",
       "      <td>Partial Approval</td>\n",
       "      <td>(34.06364, -118.41437)</td>\n",
       "      <td>07</td>\n",
       "      <td>20</td>\n",
       "      <td>2016</td>\n",
       "    </tr>\n",
       "    <tr>\n",
       "      <th>1</th>\n",
       "      <td>1000 S SANTA FE AVE</td>\n",
       "      <td>15016 10000 18196</td>\n",
       "      <td>Permit Finaled</td>\n",
       "      <td>07/22/2016</td>\n",
       "      <td>Smoke Detectors</td>\n",
       "      <td>Insp Cancelled</td>\n",
       "      <td>(34.03143, -118.22981)</td>\n",
       "      <td>07</td>\n",
       "      <td>22</td>\n",
       "      <td>2016</td>\n",
       "    </tr>\n",
       "    <tr>\n",
       "      <th>2</th>\n",
       "      <td>3680 N BUENA PARK DR</td>\n",
       "      <td>15014 10000 04931</td>\n",
       "      <td>Issued</td>\n",
       "      <td>07/18/2016</td>\n",
       "      <td>Insulation</td>\n",
       "      <td>Approved</td>\n",
       "      <td>(34.13745, -118.38853)</td>\n",
       "      <td>07</td>\n",
       "      <td>18</td>\n",
       "      <td>2016</td>\n",
       "    </tr>\n",
       "    <tr>\n",
       "      <th>3</th>\n",
       "      <td>1001 N LINDENWOOD LANE</td>\n",
       "      <td>16042 90000 14712</td>\n",
       "      <td>Permit Finaled</td>\n",
       "      <td>07/20/2016</td>\n",
       "      <td>Final</td>\n",
       "      <td>Permit Finaled</td>\n",
       "      <td>(34.07732, -118.48578)</td>\n",
       "      <td>07</td>\n",
       "      <td>20</td>\n",
       "      <td>2016</td>\n",
       "    </tr>\n",
       "    <tr>\n",
       "      <th>4</th>\n",
       "      <td>2836 S ANCHOR AVE</td>\n",
       "      <td>15016 20001 17211</td>\n",
       "      <td>CofO Issued</td>\n",
       "      <td>07/18/2016</td>\n",
       "      <td>Inspection</td>\n",
       "      <td>Permit Finaled</td>\n",
       "      <td>(34.03878, -118.39963)</td>\n",
       "      <td>07</td>\n",
       "      <td>18</td>\n",
       "      <td>2016</td>\n",
       "    </tr>\n",
       "  </tbody>\n",
       "</table>\n",
       "</div>"
      ],
      "text/plain": [
       "                     ADDRESS             PERMIT   Permit Status  \\\n",
       "0  10000 W SANTA MONICA BLVD  14044 10000 02293          Issued   \n",
       "1        1000 S SANTA FE AVE  15016 10000 18196  Permit Finaled   \n",
       "2       3680 N BUENA PARK DR  15014 10000 04931          Issued   \n",
       "3     1001 N LINDENWOOD LANE  16042 90000 14712  Permit Finaled   \n",
       "4          2836 S ANCHOR AVE  15016 20001 17211     CofO Issued   \n",
       "\n",
       "  Inspection Date    Inspection Type Inspection Result  \\\n",
       "0      07/20/2016  Rough-Ventilation  Partial Approval   \n",
       "1      07/22/2016    Smoke Detectors    Insp Cancelled   \n",
       "2      07/18/2016         Insulation          Approved   \n",
       "3      07/20/2016              Final    Permit Finaled   \n",
       "4      07/18/2016         Inspection    Permit Finaled   \n",
       "\n",
       "       Latitude/Longitude inspection_day inspection_month inspection_year  \n",
       "0  (34.06364, -118.41437)             07               20            2016  \n",
       "1  (34.03143, -118.22981)             07               22            2016  \n",
       "2  (34.13745, -118.38853)             07               18            2016  \n",
       "3  (34.07732, -118.48578)             07               20            2016  \n",
       "4  (34.03878, -118.39963)             07               18            2016  "
      ]
     },
     "execution_count": 9,
     "metadata": {},
     "output_type": "execute_result"
    }
   ],
   "source": [
    "building_and_safety_df.head()"
   ]
  },
  {
   "cell_type": "code",
   "execution_count": 10,
   "metadata": {},
   "outputs": [
    {
     "data": {
      "text/html": [
       "<div>\n",
       "<style scoped>\n",
       "    .dataframe tbody tr th:only-of-type {\n",
       "        vertical-align: middle;\n",
       "    }\n",
       "\n",
       "    .dataframe tbody tr th {\n",
       "        vertical-align: top;\n",
       "    }\n",
       "\n",
       "    .dataframe thead th {\n",
       "        text-align: right;\n",
       "    }\n",
       "</style>\n",
       "<table border=\"1\" class=\"dataframe\">\n",
       "  <thead>\n",
       "    <tr style=\"text-align: right;\">\n",
       "      <th></th>\n",
       "      <th>ADDRESS</th>\n",
       "      <th>PERMIT</th>\n",
       "      <th>Permit Status</th>\n",
       "      <th>Inspection Date</th>\n",
       "      <th>Inspection Type</th>\n",
       "      <th>Inspection Result</th>\n",
       "      <th>Latitude/Longitude</th>\n",
       "      <th>inspection_day</th>\n",
       "      <th>inspection_month</th>\n",
       "      <th>inspection_year</th>\n",
       "    </tr>\n",
       "  </thead>\n",
       "  <tbody>\n",
       "    <tr>\n",
       "      <th>0</th>\n",
       "      <td>10000 W SANTA MONICA BLVD</td>\n",
       "      <td>14044 10000 02293</td>\n",
       "      <td>Issued</td>\n",
       "      <td>07/20/2016</td>\n",
       "      <td>Rough-Ventilation</td>\n",
       "      <td>Partial Approval</td>\n",
       "      <td>(34.06364, -118.41437)</td>\n",
       "      <td>07</td>\n",
       "      <td>20</td>\n",
       "      <td>2016</td>\n",
       "    </tr>\n",
       "    <tr>\n",
       "      <th>2</th>\n",
       "      <td>3680 N BUENA PARK DR</td>\n",
       "      <td>15014 10000 04931</td>\n",
       "      <td>Issued</td>\n",
       "      <td>07/18/2016</td>\n",
       "      <td>Insulation</td>\n",
       "      <td>Approved</td>\n",
       "      <td>(34.13745, -118.38853)</td>\n",
       "      <td>07</td>\n",
       "      <td>18</td>\n",
       "      <td>2016</td>\n",
       "    </tr>\n",
       "    <tr>\n",
       "      <th>7</th>\n",
       "      <td>4125 N PERLITA AVE #B</td>\n",
       "      <td>16016 20000 07926</td>\n",
       "      <td>Issued</td>\n",
       "      <td>07/18/2016</td>\n",
       "      <td>Drywall Nailing</td>\n",
       "      <td>Approved</td>\n",
       "      <td>(34.12805, -118.26667)</td>\n",
       "      <td>07</td>\n",
       "      <td>18</td>\n",
       "      <td>2016</td>\n",
       "    </tr>\n",
       "    <tr>\n",
       "      <th>8</th>\n",
       "      <td>5744 W MANCHESTER AVE</td>\n",
       "      <td>01020 10000 02808</td>\n",
       "      <td>Issued</td>\n",
       "      <td>07/22/2016</td>\n",
       "      <td>Plumbing Verification</td>\n",
       "      <td>Insp Scheduled</td>\n",
       "      <td>(33.95971, -118.38187)</td>\n",
       "      <td>07</td>\n",
       "      <td>22</td>\n",
       "      <td>2016</td>\n",
       "    </tr>\n",
       "    <tr>\n",
       "      <th>9</th>\n",
       "      <td>5924-5926 N FIGUEROA ST</td>\n",
       "      <td>16042 10000 11285</td>\n",
       "      <td>Issued</td>\n",
       "      <td>07/20/2016</td>\n",
       "      <td>Rough</td>\n",
       "      <td>Partial Approval</td>\n",
       "      <td>(34.11074, -118.19008)</td>\n",
       "      <td>07</td>\n",
       "      <td>20</td>\n",
       "      <td>2016</td>\n",
       "    </tr>\n",
       "  </tbody>\n",
       "</table>\n",
       "</div>"
      ],
      "text/plain": [
       "                     ADDRESS             PERMIT Permit Status Inspection Date  \\\n",
       "0  10000 W SANTA MONICA BLVD  14044 10000 02293        Issued      07/20/2016   \n",
       "2       3680 N BUENA PARK DR  15014 10000 04931        Issued      07/18/2016   \n",
       "7      4125 N PERLITA AVE #B  16016 20000 07926        Issued      07/18/2016   \n",
       "8      5744 W MANCHESTER AVE  01020 10000 02808        Issued      07/22/2016   \n",
       "9    5924-5926 N FIGUEROA ST  16042 10000 11285        Issued      07/20/2016   \n",
       "\n",
       "         Inspection Type Inspection Result      Latitude/Longitude  \\\n",
       "0      Rough-Ventilation  Partial Approval  (34.06364, -118.41437)   \n",
       "2             Insulation          Approved  (34.13745, -118.38853)   \n",
       "7        Drywall Nailing          Approved  (34.12805, -118.26667)   \n",
       "8  Plumbing Verification    Insp Scheduled  (33.95971, -118.38187)   \n",
       "9                  Rough  Partial Approval  (34.11074, -118.19008)   \n",
       "\n",
       "  inspection_day inspection_month inspection_year  \n",
       "0             07               20            2016  \n",
       "2             07               18            2016  \n",
       "7             07               18            2016  \n",
       "8             07               22            2016  \n",
       "9             07               20            2016  "
      ]
     },
     "execution_count": 10,
     "metadata": {},
     "output_type": "execute_result"
    }
   ],
   "source": [
    "# extract all the rows that have a permit status of 'Issued'\n",
    "\n",
    "building_and_safety_df = building_and_safety_df[building_and_safety_df['Permit Status'] == 'Issued']\n",
    "building_and_safety_df.head()"
   ]
  },
  {
   "cell_type": "code",
   "execution_count": 11,
   "metadata": {},
   "outputs": [
    {
     "data": {
      "text/plain": [
       "(7115019, 10)"
      ]
     },
     "execution_count": 11,
     "metadata": {},
     "output_type": "execute_result"
    }
   ],
   "source": [
    "# how many permits are issued\n",
    "building_and_safety_df.shape\n"
   ]
  },
  {
   "cell_type": "markdown",
   "metadata": {},
   "source": [
    "# About 70% of the permits are issued within the coverage period."
   ]
  },
  {
   "cell_type": "code",
   "execution_count": 12,
   "metadata": {},
   "outputs": [
    {
     "data": {
      "text/html": [
       "<div>\n",
       "<style scoped>\n",
       "    .dataframe tbody tr th:only-of-type {\n",
       "        vertical-align: middle;\n",
       "    }\n",
       "\n",
       "    .dataframe tbody tr th {\n",
       "        vertical-align: top;\n",
       "    }\n",
       "\n",
       "    .dataframe thead th {\n",
       "        text-align: right;\n",
       "    }\n",
       "</style>\n",
       "<table border=\"1\" class=\"dataframe\">\n",
       "  <thead>\n",
       "    <tr style=\"text-align: right;\">\n",
       "      <th></th>\n",
       "      <th>ADDRESS</th>\n",
       "      <th>PERMIT</th>\n",
       "      <th>Permit Status</th>\n",
       "      <th>Inspection Type</th>\n",
       "      <th>Inspection Result</th>\n",
       "      <th>Latitude/Longitude</th>\n",
       "      <th>inspection_year</th>\n",
       "    </tr>\n",
       "  </thead>\n",
       "  <tbody>\n",
       "    <tr>\n",
       "      <th>0</th>\n",
       "      <td>10000 W SANTA MONICA BLVD</td>\n",
       "      <td>14044 10000 02293</td>\n",
       "      <td>Issued</td>\n",
       "      <td>Rough-Ventilation</td>\n",
       "      <td>Partial Approval</td>\n",
       "      <td>(34.06364, -118.41437)</td>\n",
       "      <td>2016</td>\n",
       "    </tr>\n",
       "    <tr>\n",
       "      <th>2</th>\n",
       "      <td>3680 N BUENA PARK DR</td>\n",
       "      <td>15014 10000 04931</td>\n",
       "      <td>Issued</td>\n",
       "      <td>Insulation</td>\n",
       "      <td>Approved</td>\n",
       "      <td>(34.13745, -118.38853)</td>\n",
       "      <td>2016</td>\n",
       "    </tr>\n",
       "    <tr>\n",
       "      <th>7</th>\n",
       "      <td>4125 N PERLITA AVE #B</td>\n",
       "      <td>16016 20000 07926</td>\n",
       "      <td>Issued</td>\n",
       "      <td>Drywall Nailing</td>\n",
       "      <td>Approved</td>\n",
       "      <td>(34.12805, -118.26667)</td>\n",
       "      <td>2016</td>\n",
       "    </tr>\n",
       "    <tr>\n",
       "      <th>8</th>\n",
       "      <td>5744 W MANCHESTER AVE</td>\n",
       "      <td>01020 10000 02808</td>\n",
       "      <td>Issued</td>\n",
       "      <td>Plumbing Verification</td>\n",
       "      <td>Insp Scheduled</td>\n",
       "      <td>(33.95971, -118.38187)</td>\n",
       "      <td>2016</td>\n",
       "    </tr>\n",
       "    <tr>\n",
       "      <th>9</th>\n",
       "      <td>5924-5926 N FIGUEROA ST</td>\n",
       "      <td>16042 10000 11285</td>\n",
       "      <td>Issued</td>\n",
       "      <td>Rough</td>\n",
       "      <td>Partial Approval</td>\n",
       "      <td>(34.11074, -118.19008)</td>\n",
       "      <td>2016</td>\n",
       "    </tr>\n",
       "  </tbody>\n",
       "</table>\n",
       "</div>"
      ],
      "text/plain": [
       "                     ADDRESS             PERMIT Permit Status  \\\n",
       "0  10000 W SANTA MONICA BLVD  14044 10000 02293        Issued   \n",
       "2       3680 N BUENA PARK DR  15014 10000 04931        Issued   \n",
       "7      4125 N PERLITA AVE #B  16016 20000 07926        Issued   \n",
       "8      5744 W MANCHESTER AVE  01020 10000 02808        Issued   \n",
       "9    5924-5926 N FIGUEROA ST  16042 10000 11285        Issued   \n",
       "\n",
       "         Inspection Type Inspection Result      Latitude/Longitude  \\\n",
       "0      Rough-Ventilation  Partial Approval  (34.06364, -118.41437)   \n",
       "2             Insulation          Approved  (34.13745, -118.38853)   \n",
       "7        Drywall Nailing          Approved  (34.12805, -118.26667)   \n",
       "8  Plumbing Verification    Insp Scheduled  (33.95971, -118.38187)   \n",
       "9                  Rough  Partial Approval  (34.11074, -118.19008)   \n",
       "\n",
       "  inspection_year  \n",
       "0            2016  \n",
       "2            2016  \n",
       "7            2016  \n",
       "8            2016  \n",
       "9            2016  "
      ]
     },
     "execution_count": 12,
     "metadata": {},
     "output_type": "execute_result"
    }
   ],
   "source": [
    "# drop date columns and retain only the inspection year\n",
    "issued_permits = building_and_safety_df.drop(['Inspection Date', 'inspection_day', 'inspection_month'], axis=1)\n",
    "issued_permits.head()\n"
   ]
  },
  {
   "cell_type": "code",
   "execution_count": 13,
   "metadata": {},
   "outputs": [
    {
     "data": {
      "text/html": [
       "<div>\n",
       "<style scoped>\n",
       "    .dataframe tbody tr th:only-of-type {\n",
       "        vertical-align: middle;\n",
       "    }\n",
       "\n",
       "    .dataframe tbody tr th {\n",
       "        vertical-align: top;\n",
       "    }\n",
       "\n",
       "    .dataframe thead th {\n",
       "        text-align: right;\n",
       "    }\n",
       "</style>\n",
       "<table border=\"1\" class=\"dataframe\">\n",
       "  <thead>\n",
       "    <tr style=\"text-align: right;\">\n",
       "      <th></th>\n",
       "      <th>ADDRESS</th>\n",
       "      <th>PERMIT</th>\n",
       "      <th>Permit Status</th>\n",
       "      <th>Inspection Type</th>\n",
       "      <th>Inspection Result</th>\n",
       "      <th>Latitude/Longitude</th>\n",
       "    </tr>\n",
       "    <tr>\n",
       "      <th>inspection_year</th>\n",
       "      <th></th>\n",
       "      <th></th>\n",
       "      <th></th>\n",
       "      <th></th>\n",
       "      <th></th>\n",
       "      <th></th>\n",
       "    </tr>\n",
       "  </thead>\n",
       "  <tbody>\n",
       "    <tr>\n",
       "      <th>2013</th>\n",
       "      <td>185767</td>\n",
       "      <td>185767</td>\n",
       "      <td>185767</td>\n",
       "      <td>185767</td>\n",
       "      <td>185767</td>\n",
       "      <td>185767</td>\n",
       "    </tr>\n",
       "    <tr>\n",
       "      <th>2014</th>\n",
       "      <td>248139</td>\n",
       "      <td>248139</td>\n",
       "      <td>248139</td>\n",
       "      <td>248139</td>\n",
       "      <td>248138</td>\n",
       "      <td>248139</td>\n",
       "    </tr>\n",
       "    <tr>\n",
       "      <th>2015</th>\n",
       "      <td>581364</td>\n",
       "      <td>581364</td>\n",
       "      <td>581364</td>\n",
       "      <td>581364</td>\n",
       "      <td>581349</td>\n",
       "      <td>581364</td>\n",
       "    </tr>\n",
       "    <tr>\n",
       "      <th>2016</th>\n",
       "      <td>559478</td>\n",
       "      <td>559479</td>\n",
       "      <td>559479</td>\n",
       "      <td>559479</td>\n",
       "      <td>559473</td>\n",
       "      <td>559479</td>\n",
       "    </tr>\n",
       "    <tr>\n",
       "      <th>2017</th>\n",
       "      <td>420592</td>\n",
       "      <td>420592</td>\n",
       "      <td>420592</td>\n",
       "      <td>420592</td>\n",
       "      <td>420564</td>\n",
       "      <td>420592</td>\n",
       "    </tr>\n",
       "    <tr>\n",
       "      <th>2018</th>\n",
       "      <td>659189</td>\n",
       "      <td>659189</td>\n",
       "      <td>659189</td>\n",
       "      <td>659189</td>\n",
       "      <td>659157</td>\n",
       "      <td>659189</td>\n",
       "    </tr>\n",
       "    <tr>\n",
       "      <th>2019</th>\n",
       "      <td>770818</td>\n",
       "      <td>770818</td>\n",
       "      <td>770818</td>\n",
       "      <td>770818</td>\n",
       "      <td>770769</td>\n",
       "      <td>770818</td>\n",
       "    </tr>\n",
       "    <tr>\n",
       "      <th>2020</th>\n",
       "      <td>696601</td>\n",
       "      <td>696601</td>\n",
       "      <td>696601</td>\n",
       "      <td>696601</td>\n",
       "      <td>696566</td>\n",
       "      <td>696601</td>\n",
       "    </tr>\n",
       "    <tr>\n",
       "      <th>2021</th>\n",
       "      <td>682494</td>\n",
       "      <td>682494</td>\n",
       "      <td>682494</td>\n",
       "      <td>682494</td>\n",
       "      <td>682478</td>\n",
       "      <td>682494</td>\n",
       "    </tr>\n",
       "    <tr>\n",
       "      <th>2022</th>\n",
       "      <td>726787</td>\n",
       "      <td>726787</td>\n",
       "      <td>726787</td>\n",
       "      <td>726787</td>\n",
       "      <td>726751</td>\n",
       "      <td>726787</td>\n",
       "    </tr>\n",
       "    <tr>\n",
       "      <th>2023</th>\n",
       "      <td>765669</td>\n",
       "      <td>765669</td>\n",
       "      <td>765669</td>\n",
       "      <td>765669</td>\n",
       "      <td>765639</td>\n",
       "      <td>765669</td>\n",
       "    </tr>\n",
       "    <tr>\n",
       "      <th>2024</th>\n",
       "      <td>733109</td>\n",
       "      <td>733109</td>\n",
       "      <td>733109</td>\n",
       "      <td>733109</td>\n",
       "      <td>733076</td>\n",
       "      <td>733109</td>\n",
       "    </tr>\n",
       "    <tr>\n",
       "      <th>2025</th>\n",
       "      <td>85011</td>\n",
       "      <td>85011</td>\n",
       "      <td>85011</td>\n",
       "      <td>85011</td>\n",
       "      <td>85002</td>\n",
       "      <td>85011</td>\n",
       "    </tr>\n",
       "  </tbody>\n",
       "</table>\n",
       "</div>"
      ],
      "text/plain": [
       "                 ADDRESS  PERMIT  Permit Status  Inspection Type  \\\n",
       "inspection_year                                                    \n",
       "2013              185767  185767         185767           185767   \n",
       "2014              248139  248139         248139           248139   \n",
       "2015              581364  581364         581364           581364   \n",
       "2016              559478  559479         559479           559479   \n",
       "2017              420592  420592         420592           420592   \n",
       "2018              659189  659189         659189           659189   \n",
       "2019              770818  770818         770818           770818   \n",
       "2020              696601  696601         696601           696601   \n",
       "2021              682494  682494         682494           682494   \n",
       "2022              726787  726787         726787           726787   \n",
       "2023              765669  765669         765669           765669   \n",
       "2024              733109  733109         733109           733109   \n",
       "2025               85011   85011          85011            85011   \n",
       "\n",
       "                 Inspection Result  Latitude/Longitude  \n",
       "inspection_year                                         \n",
       "2013                        185767              185767  \n",
       "2014                        248138              248139  \n",
       "2015                        581349              581364  \n",
       "2016                        559473              559479  \n",
       "2017                        420564              420592  \n",
       "2018                        659157              659189  \n",
       "2019                        770769              770818  \n",
       "2020                        696566              696601  \n",
       "2021                        682478              682494  \n",
       "2022                        726751              726787  \n",
       "2023                        765639              765669  \n",
       "2024                        733076              733109  \n",
       "2025                         85002               85011  "
      ]
     },
     "execution_count": 13,
     "metadata": {},
     "output_type": "execute_result"
    }
   ],
   "source": [
    "# what number of permits are issued per year?\n",
    "yearly_permits = issued_permits.groupby(['inspection_year']).count()\n",
    "yearly_permits\n"
   ]
  },
  {
   "cell_type": "code",
   "execution_count": 14,
   "metadata": {},
   "outputs": [
    {
     "data": {
      "text/plain": [
       "inspection_year\n",
       "2013    185767\n",
       "2014    248139\n",
       "2015    581364\n",
       "2016    559479\n",
       "2017    420592\n",
       "2018    659189\n",
       "2019    770818\n",
       "2020    696601\n",
       "2021    682494\n",
       "2022    726787\n",
       "2023    765669\n",
       "2024    733109\n",
       "2025     85011\n",
       "Name: Permit Status, dtype: int64"
      ]
     },
     "execution_count": 14,
     "metadata": {},
     "output_type": "execute_result"
    }
   ],
   "source": [
    "# return count of permits issued per year\n",
    "\n",
    "yearly_permit_count = yearly_permits['Permit Status']\n",
    "yearly_permit_count"
   ]
  },
  {
   "cell_type": "code",
   "execution_count": 15,
   "metadata": {},
   "outputs": [
    {
     "data": {
      "text/html": [
       "<div>\n",
       "<style scoped>\n",
       "    .dataframe tbody tr th:only-of-type {\n",
       "        vertical-align: middle;\n",
       "    }\n",
       "\n",
       "    .dataframe tbody tr th {\n",
       "        vertical-align: top;\n",
       "    }\n",
       "\n",
       "    .dataframe thead th {\n",
       "        text-align: right;\n",
       "    }\n",
       "</style>\n",
       "<table border=\"1\" class=\"dataframe\">\n",
       "  <thead>\n",
       "    <tr style=\"text-align: right;\">\n",
       "      <th></th>\n",
       "      <th>Permit Status</th>\n",
       "    </tr>\n",
       "    <tr>\n",
       "      <th>inspection_year</th>\n",
       "      <th></th>\n",
       "    </tr>\n",
       "  </thead>\n",
       "  <tbody>\n",
       "    <tr>\n",
       "      <th>2013</th>\n",
       "      <td>185767</td>\n",
       "    </tr>\n",
       "    <tr>\n",
       "      <th>2014</th>\n",
       "      <td>248139</td>\n",
       "    </tr>\n",
       "    <tr>\n",
       "      <th>2015</th>\n",
       "      <td>581364</td>\n",
       "    </tr>\n",
       "    <tr>\n",
       "      <th>2016</th>\n",
       "      <td>559479</td>\n",
       "    </tr>\n",
       "    <tr>\n",
       "      <th>2017</th>\n",
       "      <td>420592</td>\n",
       "    </tr>\n",
       "    <tr>\n",
       "      <th>2018</th>\n",
       "      <td>659189</td>\n",
       "    </tr>\n",
       "    <tr>\n",
       "      <th>2019</th>\n",
       "      <td>770818</td>\n",
       "    </tr>\n",
       "    <tr>\n",
       "      <th>2020</th>\n",
       "      <td>696601</td>\n",
       "    </tr>\n",
       "    <tr>\n",
       "      <th>2021</th>\n",
       "      <td>682494</td>\n",
       "    </tr>\n",
       "    <tr>\n",
       "      <th>2022</th>\n",
       "      <td>726787</td>\n",
       "    </tr>\n",
       "    <tr>\n",
       "      <th>2023</th>\n",
       "      <td>765669</td>\n",
       "    </tr>\n",
       "    <tr>\n",
       "      <th>2024</th>\n",
       "      <td>733109</td>\n",
       "    </tr>\n",
       "    <tr>\n",
       "      <th>2025</th>\n",
       "      <td>85011</td>\n",
       "    </tr>\n",
       "  </tbody>\n",
       "</table>\n",
       "</div>"
      ],
      "text/plain": [
       "                 Permit Status\n",
       "inspection_year               \n",
       "2013                    185767\n",
       "2014                    248139\n",
       "2015                    581364\n",
       "2016                    559479\n",
       "2017                    420592\n",
       "2018                    659189\n",
       "2019                    770818\n",
       "2020                    696601\n",
       "2021                    682494\n",
       "2022                    726787\n",
       "2023                    765669\n",
       "2024                    733109\n",
       "2025                     85011"
      ]
     },
     "execution_count": 15,
     "metadata": {},
     "output_type": "execute_result"
    }
   ],
   "source": [
    "# visualise the number of permits issued per year using a table\n",
    "\n",
    "yearly_permit_count.to_frame()"
   ]
  },
  {
   "cell_type": "code",
   "execution_count": 16,
   "metadata": {},
   "outputs": [
    {
     "data": {
      "text/plain": [
       "<Axes: xlabel='inspection_year'>"
      ]
     },
     "execution_count": 16,
     "metadata": {},
     "output_type": "execute_result"
    },
    {
     "data": {
      "image/png": "[encoded data removed]",
      "text/plain": [
       "<Figure size 640x480 with 1 Axes>"
      ]
     },
     "metadata": {},
     "output_type": "display_data"
    }
   ],
   "source": [
    "# visualise the number of permits issued per year\n",
    "\n",
    "import matplotlib.pyplot as plt\n",
    "\n",
    "yearly_permits['Permit Status'].plot(kind='bar')"
   ]
  },
  {
   "cell_type": "markdown",
   "metadata": {},
   "source": [
    "# Interesting facts about the data:\n",
    "\n",
    "Data covers 2013 to 2025 period.\n",
    "\n",
    "70% of all permit applications were issued during the period under coverage.\n",
    "\n",
    "2019 is the year with the highest number of issued permits.\n",
    "\n",
    "More more than 50% of the issued permits were in the past 6 years."
   ]
  },
  {
   "cell_type": "code",
   "execution_count": null,
   "metadata": {},
   "outputs": [],
   "source": []
  },
  {
   "cell_type": "markdown",
   "metadata": {},
   "source": [
    "# Question 2: \n",
    "\n",
    "Make a table and a visualisation showing the number of inpections by geography.\n",
    "\n",
    "In a sentence or two, describe any patterns that you observe.\n",
    "\n",
    "Make a table and a Visualisation showing the results of inspections across geographies. \n",
    "in a sentence or two, describe any patterns that you observe.\n",
    "\n",
    "Were there any permits that did not get an inspection?"
   ]
  },
  {
   "cell_type": "code",
   "execution_count": null,
   "metadata": {},
   "outputs": [],
   "source": [
    "geo_inspections_df = inspected_permits_df.copy()\n"
   ]
  },
  {
   "cell_type": "code",
   "execution_count": null,
   "metadata": {},
   "outputs": [],
   "source": [
    "geo_inspections_df.head()"
   ]
  },
  {
   "cell_type": "code",
   "execution_count": null,
   "metadata": {},
   "outputs": [],
   "source": [
    "\n",
    "# split latitude and longitude fields\n",
    "geo_inspections_df[['latitude', 'longitude']] = geo_inspections_df['Latitude/Longitude'].str.split(',', expand=True)\n",
    "\n",
    "# clean up lat and lon columns\n",
    "# for lat col, remove leading (\n",
    "\n",
    "geo_inspections_df['latitude'] = geo_inspections_df['latitude'].str.replace('(', '')\n",
    "\n",
    "\n",
    "# for lon col, remove trailing )\n",
    "geo_inspections_df['longitude'] = geo_inspections_df['longitude'].str.replace(')', '')\n",
    "\n"
   ]
  },
  {
   "cell_type": "code",
   "execution_count": null,
   "metadata": {},
   "outputs": [],
   "source": [
    "# convert to numeric values\n",
    "geo_inspections_df['latitude'] = pd.to_numeric(geo_inspections_df['latitude'], errors='coerce')\n",
    "geo_inspections_df['longitude'] = pd.to_numeric(geo_inspections_df['longitude'], errors='coerce')"
   ]
  },
  {
   "cell_type": "code",
   "execution_count": null,
   "metadata": {},
   "outputs": [],
   "source": [
    "# get minimum and maximum latitude and longitude\n",
    "\n",
    "min_latitude = geo_inspections_df['latitude'].min()\n",
    "max_latitude = geo_inspections_df['latitude'].max()\n",
    "\n",
    "min_longitude = geo_inspections_df['longitude'].min()\n",
    "max_longitude = geo_inspections_df['longitude'].max()\n",
    "\n",
    "print(min_latitude, max_latitude, min_longitude, max_longitude)"
   ]
  },
  {
   "cell_type": "code",
   "execution_count": null,
   "metadata": {},
   "outputs": [],
   "source": [
    "# create bins\n",
    "num_bins = 11\n",
    "# create an array of numbers that lie between min amd max latitude\n",
    "\n",
    "lat_bins = np.linspace(min_latitude, max_latitude, num_bins).tolist()\n",
    "print(f'lat_bins: {lat_bins}') #  lat_bins\n",
    "\n",
    "lon_bins = np.linspace(min_longitude, max_longitude, num_bins).tolist()\n",
    "print(f'lon_bins: {lon_bins}')\n"
   ]
  },
  {
   "cell_type": "code",
   "execution_count": null,
   "metadata": {},
   "outputs": [],
   "source": [
    "# pair lat lon bins\n",
    "\n",
    "lat_lon_bins = list(zip(lat_bins, lon_bins[1:]))\n",
    "\n",
    "print(f'lat_lon_bins: {lat_lon_bins}')\n",
    "\n",
    "len(lat_lon_bins)\n"
   ]
  },
  {
   "cell_type": "code",
   "execution_count": null,
   "metadata": {},
   "outputs": [],
   "source": [
    "# calculate distance between points\n",
    "\n",
    "def distance_between_points(x1, y1, x2, y2):\n",
    "    dist = ((x1-x2)**2 + (y1-y2)**2)**0.5\n",
    "    \n",
    "    return dist, x1, y1 #x1, y1, x2, y2: ((x1-x2)**2 + (y1-y2)**2)**0.5\n"
   ]
  },
  {
   "cell_type": "code",
   "execution_count": null,
   "metadata": {},
   "outputs": [],
   "source": [
    "\n",
    "#if the distance between the points is less than 0.05, then the points are the same bin   \n",
    "\n",
    "lat_lon_df = geo_inspections_df[['latitude', 'longitude']]\n",
    "lat_lon_df             \n"
   ]
  },
  {
   "cell_type": "code",
   "execution_count": null,
   "metadata": {},
   "outputs": [],
   "source": [
    "max_distance = 0.05"
   ]
  },
  {
   "cell_type": "code",
   "execution_count": null,
   "metadata": {},
   "outputs": [],
   "source": [
    "\n",
    "# Extract latitude and longitude only once\n",
    "data_lat = geo_inspections_df['latitude'].values\n",
    "data_lon = geo_inspections_df['longitude'].values\n",
    "\n",
    "# Initialize distance column with NaN or some default value\n",
    "geo_inspections_df['distance'] = np.nan  \n",
    "\n",
    "# Vectorized computation\n",
    "for bin_lat, bin_lon in lat_lon_bins:\n",
    "    dist_val, x1, y1 = distance_between_points(bin_lat, bin_lon, data_lat, data_lon)\n",
    "    \n",
    "    if dist_val. < max_distance:\n",
    "        geo_inspections_df.loc['latitude'], geo_inspections_df['longitude'] = x1, y1 \n",
    "\n",
    "\n",
    "# add to df\n",
    "\n",
    "# geo_inspections_df['distance'] = dist_val\n",
    "# geo_inspections_df['binned_loc'] = x1, y1\n",
    "\n",
    "# for each row if distance is less than max distance, then replace lat lon with bin value\n",
    "\n",
    "# for dist in geo_inspections_df['distance']:\n",
    "#     if dist < max_distance:\n",
    "#         geo_inspections_df['binned_loc'] = bin_lat, bin_lon\n",
    "# # if dist_val < max_distance:\n",
    "# #     geo_inspections_df['binned_lloc'] = bin_lat, bin_lon\n",
    "# #geo_inspections_df['distance'] = np.minimum(geo_inspections_df['distance'], dist_val)  # Keep min distance if needed\n",
    "\n",
    "\n",
    "# if dist_val.any() < max_distance:\n",
    "#         geo_inspections_df['binned_loc'] = bin_lat, bin_lon\n",
    "#     geo_inspections_df['distance'] = dist_val\n",
    "#     geo_inspections_df['binned_loc'] = bin_lat, bin_lon"
   ]
  },
  {
   "cell_type": "code",
   "execution_count": null,
   "metadata": {},
   "outputs": [],
   "source": [
    "geo_inspections_df.head()"
   ]
  },
  {
   "cell_type": "code",
   "execution_count": null,
   "metadata": {},
   "outputs": [],
   "source": [
    "for lat_lon_bin in lat_lon_bins:\n",
    "    count = 0\n",
    "\n",
    "    bin_lat, bin_lon = lat_lon_bin[0], lat_lon_bin[1]\n",
    "    \n",
    "    for index, row in lat_lon_df.iterrows():\n",
    "        lat_lon_df = geo_inspections_df[['latitude', 'longitude']]\n",
    "        data_lat, data_lon = lat_lon_df['latitude'], lat_lon_df['longitude']\n",
    "    \n",
    "        # calculate distance between points\n",
    "        dist_val = distance_between_points(bin_lat, bin_lon, data_lat, data_lon)\n",
    "        \n",
    "        # add to distance column\n",
    "        geo_inspections_df['distance'] = dist_val\n",
    "\n",
    "        # if dist_val < max_distance:\n",
    "        #     print(dist_val)\n",
    "        #     # same bin\n",
    "        #     count = count + 1\n",
    "        #     # replace lat lon with bin value\n",
    "        #     geo_inspections_df.loc[(geo_inspections_df['latitude'] == lat_lon_bin[0]) & (geo_inspections_df['longitude'] == lat_lon_bin[1])]\n",
    "        # else:\n",
    "        #     continue\n",
    "\n",
    "    \n",
    "    "
   ]
  },
  {
   "cell_type": "code",
   "execution_count": null,
   "metadata": {},
   "outputs": [],
   "source": [
    "geo_inspections_df['distance']"
   ]
  },
  {
   "cell_type": "code",
   "execution_count": null,
   "metadata": {},
   "outputs": [],
   "source": [
    "dist_val.to_frame()"
   ]
  },
  {
   "cell_type": "code",
   "execution_count": null,
   "metadata": {},
   "outputs": [],
   "source": [
    "if dist_val < 0.05:\n",
    "    count = count + 1\n",
    "    # replace lat lon with bin value\n",
    "    geo_inspections_df.loc[(geo_inspections_df['latitude'] == lat_lon_bin[0]) & (geo_inspections_df['longitude'] == lat_lon_bin[1])]\n"
   ]
  },
  {
   "cell_type": "code",
   "execution_count": null,
   "metadata": {},
   "outputs": [],
   "source": [
    "  # calculate distance between points\n",
    "    if distance_between_points(bin_lat, bin_lon, data_lat, data_lon) < 0.05:\n",
    "        count = count + 1\n",
    "        # replace lat lon with bin value\n",
    "        geo_inspections_df.loc[(geo_inspections_df['latitude'] == lat_lon_bin[0]) & (geo_inspections_df['longitude'] == lat_lon_bin[1])]\n"
   ]
  },
  {
   "cell_type": "code",
   "execution_count": null,
   "metadata": {},
   "outputs": [],
   "source": [
    "# if your lat/lon lies within a bin, replace with bin values\n",
    "\n",
    "for lat_lon_bin in lat_lon_bins:\n",
    "    geo_inspections_df.loc[(geo_inspections_df['latitude'] >= lat_lon_bin[0]) & (geo_inspections_df['latitude'] < lat_lon_bin[1]), ['latitude']] = lat_lon_bin[0]\n",
    "    geo_inspections_df.loc[(geo_inspections_df['longitude'] >= lat_lon_bin[0]) & (geo_inspections_df['longitude'] < lat_lon_bin[1]), ['longitude']] = lat_lon_bin[0]\n",
    "\n",
    "\n"
   ]
  },
  {
   "cell_type": "code",
   "execution_count": null,
   "metadata": {},
   "outputs": [],
   "source": [
    "geo_inspections_df['latitude'].unique()"
   ]
  },
  {
   "cell_type": "code",
   "execution_count": null,
   "metadata": {},
   "outputs": [],
   "source": [
    "geo_inspections_df.head()"
   ]
  },
  {
   "cell_type": "code",
   "execution_count": null,
   "metadata": {},
   "outputs": [],
   "source": [
    "# convert to numeric values\n",
    "geo_inspections_df['latitude'] = pd.to_numeric(geo_inspections_df['latitude'], errors='coerce')\n",
    "geo_inspections_df['longitude'] = pd.to_numeric(geo_inspections_df['longitude'], errors='coerce')"
   ]
  },
  {
   "cell_type": "code",
   "execution_count": null,
   "metadata": {},
   "outputs": [],
   "source": [
    "# conver latlon to Points\n",
    "from shapely.geometry import Point\n",
    "\n",
    "geo_inspections_df['geometry'] = geo_inspections_df.apply(lambda row: Point((row['longitude'], row['latitude'])), axis=1)\n",
    "\n",
    "geo_inspections_df.head()"
   ]
  },
  {
   "cell_type": "code",
   "execution_count": null,
   "metadata": {},
   "outputs": [],
   "source": [
    "geo_df = gpd.GeoDataFrame(geo_inspections_df, geometry='geometry')\n",
    "geo_df.head()"
   ]
  },
  {
   "cell_type": "code",
   "execution_count": null,
   "metadata": {},
   "outputs": [],
   "source": []
  },
  {
   "cell_type": "code",
   "execution_count": null,
   "metadata": {},
   "outputs": [],
   "source": [
    "fig = px.scatter_map(\n",
    "    geo_df,\n",
    "    lat = geo_inspections_df['latitude'],\n",
    "    lon = geo_inspections_df['longitude'],\n",
    "    zoom = 10,\n",
    "    #hover_name = geo_inspections_df['Inspection Result'],\n",
    "    hover_data = ['Permit Status'],\n",
    ")\n",
    "fig.show()"
   ]
  },
  {
   "cell_type": "code",
   "execution_count": null,
   "metadata": {},
   "outputs": [],
   "source": [
    "\n",
    "# Filter out rows with invalid coordinates\n",
    "viz_df = geo_inspections_df.dropna(subset=['latitude', 'longitude'])"
   ]
  },
  {
   "cell_type": "code",
   "execution_count": null,
   "metadata": {},
   "outputs": [],
   "source": [
    "# unique values of inspection results\n",
    "viz_df['Inspection Result'].unique()"
   ]
  },
  {
   "cell_type": "code",
   "execution_count": null,
   "metadata": {},
   "outputs": [],
   "source": [
    "#map inspection results to colors\n",
    "\n",
    "color_map = {\n",
    "    'Partial Approval': 'green',\n",
    "    'Insp Cancelled': 'red',\n",
    "    'Approved': 'blue',\n",
    "    'Permit Finaled': 'yellow',\n",
    "    'Insp Scheduled': 'orange',\n",
    "    'Not Ready for Inspection': 'gray',\n",
    "    'OK for CofO': 'green',\n",
    "    'Completed (special insp)': 'blue',\n",
    "    'Partial Inspection': 'yellow',\n",
    "    'Corrections Issued': 'red',\n",
    "    'CofO in Progress': 'orange',\n",
    "    'Cancelled': 'gray',\n",
    "    'Conditional Approval': 'green',\n",
    "    'CofO Issued': 'blue',\n",
    "    'SGSOV Approved': 'yellow',\n",
    "    'SGSOV Not Ready': 'red',\n",
    "    'CofO on Hold': 'orange',\n",
    "    'Not Applicable': 'gray',   \n",
    "    'No Access for Inspection': 'green',   \n",
    "    'Completed': 'blue',   \n",
    "    'Permit Closed': 'yellow',   \n",
    "    'SGSOV Not Required': 'red',    \n",
    "    'OK to Expire Permit': 'orange',        \n",
    "}"
   ]
  },
  {
   "cell_type": "code",
   "execution_count": null,
   "metadata": {},
   "outputs": [],
   "source": [
    "# # use auto color map\n",
    "# fig = px.scatter_map(\n",
    "#     viz_df,\n",
    "#     lat='latitude',\n",
    "#     lon='longitude',\n",
    "#     color='Inspection Result',\n",
    "#     size='Permit Status',\n",
    "#     #color_continuous_scale=px.colors.cyclical.IceFire,\n",
    "#     size_max=15,\n",
    "#     zoom=10,\n",
    "#     #'ADDRESS',  # Address shown on hover\n",
    "#     #hover_data=['PERMIT', 'Permit Status', 'Inspection Date', 'Inspection Type'],\n",
    "#     color_discrete_map=color_map,  # Use our color mapping\n",
    "#     #zoom=10,  # Adjust to fit the data area\n",
    "#     #mapbox_style=\"open-street-map\",\n",
    "#     title=\"Inspection Results by Location\"\n",
    "# )"
   ]
  },
  {
   "cell_type": "code",
   "execution_count": null,
   "metadata": {},
   "outputs": [],
   "source": [
    "#fig.show()"
   ]
  },
  {
   "cell_type": "code",
   "execution_count": null,
   "metadata": {},
   "outputs": [],
   "source": [
    "# split latitude and longitude fields\n",
    "geo_inspections_df[['latitude', 'longitude']] = geo_inspections_df['Latitude/Longitude'].str.split(',', expand=True)\n"
   ]
  },
  {
   "cell_type": "code",
   "execution_count": null,
   "metadata": {},
   "outputs": [],
   "source": [
    "geo_inspections_df.head()"
   ]
  },
  {
   "cell_type": "code",
   "execution_count": null,
   "metadata": {},
   "outputs": [],
   "source": [
    "# clean up lat and lon columns\n",
    "# for lat col, remove leading (\n",
    "\n",
    "geo_inspections_df['latitude'] = geo_inspections_df['latitude'].str.replace('(', '')\n",
    "\n",
    "\n",
    "# for lon col, remove trailing )\n",
    "geo_inspections_df['longitude'] = geo_inspections_df['longitude'].str.replace(')', '')\n",
    "\n",
    "\n",
    "geo_inspections_df.head()"
   ]
  },
  {
   "cell_type": "code",
   "execution_count": null,
   "metadata": {},
   "outputs": [],
   "source": [
    "\n",
    "\n",
    "def bin_lat_lon(df, num_bins=10):\n",
    "    # Make a copy to avoid modifying the original dataframe\n",
    "    df_copy = df.copy()\n",
    "    \n",
    "    # Convert lat/lon to numeric, errors='coerce' will convert invalid values to NaN\n",
    "    df_copy['latitude'] = pd.to_numeric(df_copy['latitude'], errors='coerce')\n",
    "    df_copy['longitude'] = pd.to_numeric(df_copy['longitude'], errors='coerce')\n",
    "    \n",
    "    # Drop rows with NaN values after conversion\n",
    "    df_copy.dropna(subset=['latitude', 'longitude'], inplace=True)\n",
    "    \n",
    "    # Get min and max values to create bins\n",
    "    lat_min, lat_max = df_copy['latitude'].min(), df_copy['latitude'].max()\n",
    "    lon_min, lon_max = df_copy['longitude'].min(), df_copy['longitude'].max()\n",
    "    \n",
    "    # Create bin edges\n",
    "    lat_edges = np.linspace(lat_min, lat_max, num_bins + 1)\n",
    "    lon_edges = np.linspace(lon_min, lon_max, num_bins + 1)\n",
    "    \n",
    "    # Cut the data into bins and get the bin indices\n",
    "    df_copy['lat_bin_idx'] = pd.cut(df_copy['latitude'], bins=lat_edges, labels=False)\n",
    "    df_copy['lon_bin_idx'] = pd.cut(df_copy['longitude'], bins=lon_edges, labels=False)\n",
    "    \n",
    "    # Map bin indices back to the lower bound of each bin\n",
    "    \n",
    "    df_copy['lat_bin_idx'] = df_copy['lat_bin_idx'].map(lambda x: lat_edges[x])\n",
    "    df_copy['lon_bin_idx'] = df_copy['lon_bin_idx'].map(lambda x: lon_edges[x])\n",
    "\n",
    "    # df_copy['latitude_binned'] = lat_edges[df_copy['lat_bin_idx']]\n",
    "    # df_copy['longitude_binned'] = lon_edges[df_copy['lon_bin_idx']]\n",
    "    \n",
    "    # Drop the temporary bin index columns\n",
    "    # df_copy.drop(['lat_bin_idx', 'lon_bin_idx'], axis=1, inplace=True)\n",
    "    \n",
    "    return df_copy, lat_edges, lon_edges\n",
    "\n",
    "\n",
    "\n"
   ]
  },
  {
   "cell_type": "code",
   "execution_count": null,
   "metadata": {},
   "outputs": [],
   "source": [
    "\n",
    "binned_df = bin_lat_lon(geo_inspections_df, num_bins=10)\n",
    "binned_df.head()"
   ]
  },
  {
   "cell_type": "code",
   "execution_count": null,
   "metadata": {},
   "outputs": [],
   "source": [
    "# convert lat lon to float\n",
    "# geo_inspections_df['latitude'] = geo_inspections_df['latitude'].astype(float)\n",
    "# geo_inspections_df['longitude'] = geo_inspections_df['longitude'].astype(float)\n"
   ]
  },
  {
   "cell_type": "code",
   "execution_count": null,
   "metadata": {},
   "outputs": [],
   "source": [
    "# get only latitude and longitude columns\n",
    "\n",
    "lat_lon_df = geo_inspections_df[['latitude', 'longitude']].astype(float)\n",
    "lat_lon_df.dtypes"
   ]
  },
  {
   "cell_type": "code",
   "execution_count": null,
   "metadata": {},
   "outputs": [],
   "source": [
    "lat_lon_df['latitude'][0]"
   ]
  },
  {
   "cell_type": "code",
   "execution_count": null,
   "metadata": {},
   "outputs": [],
   "source": [
    "# get minimum and maximum latitude and longitude\n",
    "\n",
    "min_latitude = lat_lon_df['latitude'].min()\n",
    "max_latitude = lat_lon_df['latitude'].max()\n",
    "\n",
    "min_longitude = lat_lon_df['longitude'].min()\n",
    "max_longitude = lat_lon_df['longitude'].max()\n",
    "\n",
    "print(min_latitude, max_latitude, min_longitude, max_longitude)"
   ]
  },
  {
   "cell_type": "code",
   "execution_count": null,
   "metadata": {},
   "outputs": [],
   "source": [
    "# create bins\n",
    "num_bins = 11\n",
    "# create an array of numbers that lie between min amd max latitude\n",
    "\n",
    "lat_bins = np.linspace(min_latitude, max_latitude, num_bins).tolist()\n",
    "print(f'lat_bins: {lat_bins}') #  lat_bins\n",
    "\n",
    "lon_bins = np.linspace(min_longitude, max_longitude, num_bins).tolist()\n",
    "print(f'lon_bins: {lon_bins}')\n"
   ]
  },
  {
   "cell_type": "code",
   "execution_count": null,
   "metadata": {},
   "outputs": [],
   "source": [
    "# pair lat lon bins\n",
    "\n",
    "lat_lon_bins = list(zip(lat_bins, lon_bins[1:]))\n",
    "\n",
    "print(f'lat_lon_bins: {lat_lon_bins}')\n",
    "\n",
    "len(lat_lon_bins)\n"
   ]
  },
  {
   "cell_type": "code",
   "execution_count": null,
   "metadata": {},
   "outputs": [],
   "source": [
    "def map_lat_lon(row, lat_lon_bins):\n",
    "    # Iterate through all lat/lon bins\n",
    "    for lat_bin, lon_bin in lat_lon_bins:\n",
    "        # Check if this row's lat/lon falls within the current bin\n",
    "        if (row['latitude'] >= lat_bin[0] and row['latitude'] < lat_bin[1] and\n",
    "            row['longitude'] >= lon_bin[0] and row['longitude'] < lon_bin[1]):\n",
    "            # Replace with bin values\n",
    "            row['latitude'] = lat_bin[0]  # Use lower bound as representative\n",
    "            row['longitude'] = lon_bin[0]  # Use lower bound as representative\n",
    "            break  # Stop once we find a matching bin\n",
    "    \n",
    "    return row\n",
    "\n"
   ]
  },
  {
   "cell_type": "code",
   "execution_count": null,
   "metadata": {},
   "outputs": [],
   "source": [
    "# To use with apply:\n",
    "mapped_df = geo_inspections_df.apply(map_lat_lon, axis=1, args=(lat_lon_bins,))"
   ]
  },
  {
   "cell_type": "code",
   "execution_count": null,
   "metadata": {},
   "outputs": [],
   "source": [
    "def map_lat_lon(df, lat_lon_bins):\n",
    "    # for each lat lon bin\n",
    "    count = 0\n",
    "    for x in range(len(df)):\n",
    "        # get data point\n",
    "        data_point = df.iloc[x]\n",
    "\n",
    "    for lat_lon_bin in lat_lon_bins:\n",
    "        # if data point is within a bin\n",
    "        if  data_point[0] >= lat_lon_bin[0] and  data_point[1] < lat_lon_bin[1]:\n",
    "            if data_point['longitude'] >= lat_lon_bin[0] and  data_point['longitude'] < lat_lon_bin[1]:\n",
    "                # replace lat lon with bin value\n",
    "                df['latitude'] = lat_lon_bin[0]\n",
    "                df['longitude'] = lat_lon_bin[1]\n",
    "\n",
    "            else:\n",
    "                count+=1\n",
    "    return df\n",
    "\n",
    "    \n",
    "\n",
    "    "
   ]
  },
  {
   "cell_type": "code",
   "execution_count": null,
   "metadata": {},
   "outputs": [],
   "source": [
    "geo_inspections_df.head()"
   ]
  },
  {
   "cell_type": "code",
   "execution_count": null,
   "metadata": {},
   "outputs": [],
   "source": [
    "#drop latitude/longitude\n",
    "#inspected_permits_df = inspected_permits_df.drop(['Latitude/Longitude'], axis=1)\n"
   ]
  },
  {
   "cell_type": "code",
   "execution_count": null,
   "metadata": {},
   "outputs": [],
   "source": [
    "gpd_df = gpd.GeoDataFrame(inspected_permits_df, geometry=gpd.points_from_xy(inspected_permits_df.longitude, inspected_permits_df.latitude))"
   ]
  },
  {
   "cell_type": "code",
   "execution_count": null,
   "metadata": {},
   "outputs": [],
   "source": [
    "gpd_df.head()"
   ]
  },
  {
   "cell_type": "code",
   "execution_count": null,
   "metadata": {},
   "outputs": [],
   "source": []
  },
  {
   "cell_type": "code",
   "execution_count": null,
   "metadata": {},
   "outputs": [],
   "source": []
  },
  {
   "cell_type": "code",
   "execution_count": null,
   "metadata": {},
   "outputs": [],
   "source": [
    "\n"
   ]
  },
  {
   "cell_type": "code",
   "execution_count": null,
   "metadata": {},
   "outputs": [],
   "source": []
  },
  {
   "cell_type": "code",
   "execution_count": null,
   "metadata": {},
   "outputs": [],
   "source": [
    "# pair lat lon bins\n",
    "\n",
    "lat_lon_bins = list(zip(lat_bins, lat_bins[1:]))\n",
    "# lon_lat_bins = list(zip(lon_bins, lon_bins[1:]))\n",
    "\n",
    "# convert to Points\n",
    "lat_lon_bins = [shapely.geometry.Point(x) for x in lat_lon_bins]\n",
    "# lon_lat_bins = [shapely.geometry.Point(x) for x in lon_lat_bins]\n",
    "\n",
    "print(f'lat_lon_bins: {lat_lon_bins}')\n",
    "# print(f'lon_lat_bins: {lon_lat_bins}')"
   ]
  },
  {
   "cell_type": "code",
   "execution_count": null,
   "metadata": {},
   "outputs": [],
   "source": [
    "# assign data points to bins\n",
    "\n",
    "inspected_permits_df['latitude_bin'] = pd.cut(inspected_permits_df['latitude'], lat_bins)\n",
    "inspected_permits_df['longitude_bin'] = pd.cut(inspected_permits_df['longitude'], lon_bins)\n",
    "inspected_permits_df.head()"
   ]
  },
  {
   "cell_type": "code",
   "execution_count": null,
   "metadata": {},
   "outputs": [],
   "source": [
    "ax = sns.histplot(inspected_permits_df, x='latitude', bins=lat_bins)\n",
    "ax.set(xlabel='Latitude', ylabel='Number of Inspections')"
   ]
  },
  {
   "cell_type": "code",
   "execution_count": null,
   "metadata": {},
   "outputs": [],
   "source": [
    "ax = sns.histplot(inspected_permits_df, x='longitude', bins=lon_bins)\n",
    "ax.set(xlabel='Longitude', ylabel='Number of Inspections')"
   ]
  },
  {
   "cell_type": "code",
   "execution_count": null,
   "metadata": {},
   "outputs": [],
   "source": [
    "# convert lat/lon to geography\n",
    "\n"
   ]
  },
  {
   "cell_type": "code",
   "execution_count": null,
   "metadata": {},
   "outputs": [],
   "source": [
    "# visualise the number of permits issued per geography using the bins\n",
    "\n",
    "inspections_by_geography = inspected_permits_df.groupby(['latitude_bin', 'longitude_bin']).count()\n",
    "inspections_by_geography"
   ]
  },
  {
   "cell_type": "code",
   "execution_count": null,
   "metadata": {},
   "outputs": [],
   "source": [
    "# get the average number for each bin\n",
    "\n",
    "#inspected_permits_df['latitude_bin'].unique()\n",
    "inspected_permits_df['longitude_bin'][0]\n"
   ]
  },
  {
   "cell_type": "code",
   "execution_count": null,
   "metadata": {},
   "outputs": [],
   "source": [
    "# count the number of inspections per bin\n",
    "\n",
    "inspections_by_geography = inspected_permits_df.groupby(['latitude_bin', 'longitude_bin']).count()\n",
    "inspections_by_geography"
   ]
  },
  {
   "cell_type": "code",
   "execution_count": null,
   "metadata": {},
   "outputs": [],
   "source": [
    "inspections_by_geography = inspected_permits_df.groupby(['Latitude/Longitude']).count()\n",
    "inspections_by_geography\n",
    "# 435039 unique geographies"
   ]
  },
  {
   "cell_type": "code",
   "execution_count": null,
   "metadata": {},
   "outputs": [],
   "source": []
  },
  {
   "cell_type": "code",
   "execution_count": null,
   "metadata": {},
   "outputs": [],
   "source": [
    "# combine similar geographies\n"
   ]
  },
  {
   "cell_type": "code",
   "execution_count": null,
   "metadata": {},
   "outputs": [],
   "source": [
    "# number of inspections by geography\n",
    "\n",
    "# get distinct values of latitude and longitude\n",
    "\n",
    "lat_lon = inspected_permits_df['Latitude/Longitude'].unique()\n",
    "lat_lon\n",
    "\n"
   ]
  },
  {
   "cell_type": "code",
   "execution_count": null,
   "metadata": {},
   "outputs": [],
   "source": []
  },
  {
   "cell_type": "code",
   "execution_count": null,
   "metadata": {},
   "outputs": [],
   "source": [
    "inspected_permits_df = inspected_permits_df.drop(['Latitude/Longitude'], axis=1)\n",
    "\n",
    "inspected_permits_df.head()"
   ]
  },
  {
   "cell_type": "code",
   "execution_count": null,
   "metadata": {},
   "outputs": [],
   "source": [
    "\n"
   ]
  },
  {
   "cell_type": "code",
   "execution_count": null,
   "metadata": {},
   "outputs": [],
   "source": [
    "# add back to original dataframe\n",
    "\n",
    "inspected_permits_df['latitude'] = lat_lon['latitude']\n",
    "inspected_permits_df['longitude'] = lat_lon['longitude']\n",
    "inspected_permits_df.head(10)"
   ]
  },
  {
   "cell_type": "code",
   "execution_count": null,
   "metadata": {},
   "outputs": [],
   "source": []
  },
  {
   "cell_type": "code",
   "execution_count": null,
   "metadata": {},
   "outputs": [],
   "source": [
    "lat_lon['latitude'].unique()"
   ]
  },
  {
   "cell_type": "code",
   "execution_count": null,
   "metadata": {},
   "outputs": [],
   "source": [
    "lat_lon['longitude'].unique()"
   ]
  },
  {
   "cell_type": "code",
   "execution_count": null,
   "metadata": {},
   "outputs": [],
   "source": []
  },
  {
   "cell_type": "code",
   "execution_count": null,
   "metadata": {},
   "outputs": [],
   "source": [
    "# bin latitude \n",
    "# create bins\n",
    "import numpy as np\n",
    "\n",
    "\n",
    "num_bins = 10\n",
    "# create an array of numbers that lie between min amd max latitude\n",
    "\n",
    "lat_bins = np.linspace(min_latitude, max_latitude, num_bins)\n",
    "lat_bins\n",
    "\n"
   ]
  },
  {
   "cell_type": "code",
   "execution_count": null,
   "metadata": {},
   "outputs": [],
   "source": [
    "lon_bins = np.linspace(min_longitude, max_longitude, num_bins)\n",
    "lon_bins"
   ]
  },
  {
   "cell_type": "code",
   "execution_count": null,
   "metadata": {},
   "outputs": [],
   "source": []
  },
  {
   "cell_type": "code",
   "execution_count": null,
   "metadata": {},
   "outputs": [],
   "source": [
    "lat_lon_df = lat_lon\n",
    "lat_lon_df['latitude'] = pd.cut(lat_lon_df['latitude'], lat_bins)\n",
    "lat_lon_df"
   ]
  },
  {
   "cell_type": "code",
   "execution_count": null,
   "metadata": {},
   "outputs": [],
   "source": [
    "\n",
    "ax = sns.histplot(lat_lon['latitude'], x='latitude', bins=lat_bins)\n",
    "ax.set(xlabel='Latitude', ylabel='Number of Inspections')"
   ]
  },
  {
   "cell_type": "code",
   "execution_count": null,
   "metadata": {},
   "outputs": [],
   "source": [
    "# for lat in lat_lon['latitude']:\n",
    "#     if lat < min_latitude:\n",
    "#         lat = min_latitude\n",
    "#     elif lat > max_latitude:\n",
    "#         lat = max_latitude"
   ]
  },
  {
   "cell_type": "code",
   "execution_count": null,
   "metadata": {},
   "outputs": [],
   "source": [
    "# number of inspections by latitude and longitude\n"
   ]
  },
  {
   "cell_type": "code",
   "execution_count": null,
   "metadata": {},
   "outputs": [],
   "source": []
  },
  {
   "cell_type": "code",
   "execution_count": null,
   "metadata": {},
   "outputs": [],
   "source": []
  },
  {
   "cell_type": "code",
   "execution_count": null,
   "metadata": {},
   "outputs": [],
   "source": [
    "longitude = issued_permits['Latitude/Longitude'].unique()\n",
    "longitude\n"
   ]
  },
  {
   "cell_type": "markdown",
   "metadata": {},
   "source": [
    "# Question 3: \n",
    "\n",
    "Your manager is convinced ‘out of town’ contractors are not as invested in the success\n",
    "of their projects and so are the main culprits when it comes to violations. \n",
    "\n",
    "You are asked to complete an analysis to test this hypothesis.\n",
    "\n",
    "Produce a model that quantifies the relationship between a contractor’s place of origin and their inspection outcome history. \n",
    "\n",
    "Investigate any other relevant factors as necessary.\n",
    "\n",
    "Interpret your results and produce a clear response for your manager."
   ]
  },
  {
   "cell_type": "markdown",
   "metadata": {},
   "source": []
  }
 ],
 "metadata": {
  "kernelspec": {
   "display_name": "m2m_capstones",
   "language": "python",
   "name": "python3"
  },
  "language_info": {
   "codemirror_mode": {
    "name": "ipython",
    "version": 3
   },
   "file_extension": ".py",
   "mimetype": "text/x-python",
   "name": "python",
   "nbconvert_exporter": "python",
   "pygments_lexer": "ipython3",
   "version": "3.12.4"
  }
 },
 "nbformat": 4,
 "nbformat_minor": 2
}
